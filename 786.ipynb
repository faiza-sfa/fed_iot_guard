{
 "cells": [
  {
   "cell_type": "code",
   "execution_count": 5,
   "metadata": {},
   "outputs": [],
   "source": [
    "from argparse import ArgumentParser\n",
    "\n",
    "import torch.utils.data\n",
    "\n",
    "from src.data_ import read_all_data, all_devices,read_device_data\n",
    "from src.federated_util import federated_averaging, federated_median, federated_min_max,federated_trimmed_mean_1, federated_trimmed_mean_2, __federated_trimmed_mean, s_resampling, model_update_scaling,model_canceling_attack, select_mimicked_client,mimic_attack,init_federated_models,model_poisoning, model_aggregation\n",
    "from src.grid_search import run_grid_search\n",
    "from src.supervised_data import get_client_supervised_initial_splitting\n",
    "from src.test_hparams import test_hyperparameters\n",
    "from src.unsupervised_data import get_client_unsupervised_initial_splitting\n"
   ]
  },
  {
   "cell_type": "code",
   "execution_count": 3,
   "metadata": {},
   "outputs": [
    {
     "name": "stdout",
     "output_type": "stream",
     "text": [
      "3959721984\n"
     ]
    }
   ],
   "source": [
    "\n",
    "\n",
    "import os, psutil\n",
    "process = psutil.Process(os.getpid())\n",
    "print(process.memory_info().rss) \n",
    "\n"
   ]
  },
  {
   "cell_type": "code",
   "execution_count": 4,
   "metadata": {},
   "outputs": [],
   "source": [
    "import warnings\n",
    "warnings.filterwarnings('ignore')"
   ]
  },
  {
   "cell_type": "code",
   "execution_count": 14,
   "metadata": {},
   "outputs": [
    {
     "name": "stdout",
     "output_type": "stream",
     "text": [
      "[1/9] Data from Danmini_Doorbell\u001b[0m\n",
      "11\n",
      "dict_keys(['benign', 'mirai_ack', 'mirai_scan', 'mirai_syn', 'mirai_udp', 'mirai_udpplain', 'gafgyt_combo', 'gafgyt_junk', 'gafgyt_scan', 'gafgyt_tcp', 'gafgyt_udp'])\n"
     ]
    },
    {
     "data": {
      "text/plain": [
       "(102195, 115)"
      ]
     },
     "execution_count": 14,
     "metadata": {},
     "output_type": "execute_result"
    }
   ],
   "source": [
    "data_dev1 = read_device_data(0)\n",
    "print(len(data_dev1))\n",
    "print(data_dev1.keys())\n",
    "data_dev1['mirai_ack'].shape\n"
   ]
  },
  {
   "cell_type": "code",
   "execution_count": 13,
   "metadata": {},
   "outputs": [
    {
     "name": "stdout",
     "output_type": "stream",
     "text": [
      "[2/9] Data from Ecobee_Thermostat\u001b[0m\n",
      "11\n",
      "dict_keys(['benign', 'mirai_ack', 'mirai_scan', 'mirai_syn', 'mirai_udp', 'mirai_udpplain', 'gafgyt_combo', 'gafgyt_junk', 'gafgyt_scan', 'gafgyt_tcp', 'gafgyt_udp'])\n"
     ]
    }
   ],
   "source": [
    "data_dev2 = read_device_data(1)\n",
    "print(len(data_dev2))\n",
    "print(data_dev2.keys())"
   ]
  },
  {
   "cell_type": "code",
   "execution_count": 12,
   "metadata": {},
   "outputs": [
    {
     "name": "stdout",
     "output_type": "stream",
     "text": [
      "[3/9] Data from Ennio_Doorbell\u001b[0m\n",
      "6\n",
      "dict_keys(['benign', 'gafgyt_combo', 'gafgyt_junk', 'gafgyt_scan', 'gafgyt_tcp', 'gafgyt_udp'])\n"
     ]
    }
   ],
   "source": [
    "data_dev3 = read_device_data(2)\n",
    "print(len(data_dev3))\n",
    "print(data_dev3.keys())"
   ]
  },
  {
   "cell_type": "code",
   "execution_count": 11,
   "metadata": {},
   "outputs": [
    {
     "name": "stdout",
     "output_type": "stream",
     "text": [
      "[4/9] Data from Philips_B120N10_Baby_Monitor\u001b[0m\n",
      "11\n",
      "dict_keys(['benign', 'mirai_ack', 'mirai_scan', 'mirai_syn', 'mirai_udp', 'mirai_udpplain', 'gafgyt_combo', 'gafgyt_junk', 'gafgyt_scan', 'gafgyt_tcp', 'gafgyt_udp'])\n"
     ]
    }
   ],
   "source": [
    "data_dev4 = read_device_data(3)\n",
    "print(len(data_dev4))\n",
    "print(data_dev4.keys())"
   ]
  },
  {
   "cell_type": "code",
   "execution_count": 10,
   "metadata": {},
   "outputs": [
    {
     "name": "stdout",
     "output_type": "stream",
     "text": [
      "[5/9] Data from Provision_PT_737E_Security_Camera\u001b[0m\n",
      "11\n",
      "dict_keys(['benign', 'mirai_ack', 'mirai_scan', 'mirai_syn', 'mirai_udp', 'mirai_udpplain', 'gafgyt_combo', 'gafgyt_junk', 'gafgyt_scan', 'gafgyt_tcp', 'gafgyt_udp'])\n"
     ]
    }
   ],
   "source": [
    "data_dev5 = read_device_data(4)\n",
    "print(len(data_dev5))\n",
    "print(data_dev5.keys())"
   ]
  },
  {
   "cell_type": "code",
   "execution_count": 9,
   "metadata": {},
   "outputs": [
    {
     "name": "stdout",
     "output_type": "stream",
     "text": [
      "[6/9] Data from Provision_PT_838_Security_Camera\u001b[0m\n",
      "11\n",
      "dict_keys(['benign', 'mirai_ack', 'mirai_scan', 'mirai_syn', 'mirai_udp', 'mirai_udpplain', 'gafgyt_combo', 'gafgyt_junk', 'gafgyt_scan', 'gafgyt_tcp', 'gafgyt_udp'])\n"
     ]
    }
   ],
   "source": [
    "\n",
    "data_dev6 = read_device_data(5)\n",
    "print(len(data_dev6))\n",
    "print(data_dev6.keys())"
   ]
  },
  {
   "cell_type": "code",
   "execution_count": 8,
   "metadata": {},
   "outputs": [
    {
     "name": "stdout",
     "output_type": "stream",
     "text": [
      "[7/9] Data from Samsung_SNH_1011_N_Webcam\u001b[0m\n",
      "6\n",
      "dict_keys(['benign', 'gafgyt_combo', 'gafgyt_junk', 'gafgyt_scan', 'gafgyt_tcp', 'gafgyt_udp'])\n"
     ]
    }
   ],
   "source": [
    "data_dev7 = read_device_data(6)\n",
    "print(len(data_dev7))\n",
    "print(data_dev7.keys())"
   ]
  },
  {
   "cell_type": "code",
   "execution_count": 7,
   "metadata": {},
   "outputs": [
    {
     "name": "stdout",
     "output_type": "stream",
     "text": [
      "[8/9] Data from SimpleHome_XCS7_1002_WHT_Security_Camera\u001b[0m\n",
      "11\n",
      "dict_keys(['benign', 'mirai_ack', 'mirai_scan', 'mirai_syn', 'mirai_udp', 'mirai_udpplain', 'gafgyt_combo', 'gafgyt_junk', 'gafgyt_scan', 'gafgyt_tcp', 'gafgyt_udp'])\n"
     ]
    }
   ],
   "source": [
    "# from src.data_ import read_all_data, all_devices,read_device_data\n",
    "\n",
    "data_dev8 = read_device_data(7)\n",
    "print(len(data_dev8))\n",
    "print(data_dev8.keys())"
   ]
  },
  {
   "cell_type": "code",
   "execution_count": 6,
   "metadata": {},
   "outputs": [
    {
     "name": "stdout",
     "output_type": "stream",
     "text": [
      "[9/9] Data from SimpleHome_XCS7_1003_WHT_Security_Camera\u001b[0m\n",
      "11\n",
      "dict_keys(['benign', 'mirai_ack', 'mirai_scan', 'mirai_syn', 'mirai_udp', 'mirai_udpplain', 'gafgyt_combo', 'gafgyt_junk', 'gafgyt_scan', 'gafgyt_tcp', 'gafgyt_udp'])\n"
     ]
    }
   ],
   "source": [
    "from src.data_ import read_all_data, all_devices,read_device_data\n",
    "data_dev9 = read_device_data(8)\n",
    "print(len(data_dev9))\n",
    "print(data_dev9.keys())"
   ]
  },
  {
   "cell_type": "code",
   "execution_count": null,
   "metadata": {},
   "outputs": [],
   "source": []
  },
  {
   "cell_type": "code",
   "execution_count": null,
   "metadata": {},
   "outputs": [],
   "source": []
  },
  {
   "cell_type": "code",
   "execution_count": null,
   "metadata": {},
   "outputs": [],
   "source": [
    "run_grid_search(all_data, setup, experiment, splitting_function, constant_params, varying_params, configurations, collaborative)\n"
   ]
  }
 ],
 "metadata": {
  "kernelspec": {
   "display_name": "Python 3.10.4 ('pyt')",
   "language": "python",
   "name": "python3"
  },
  "language_info": {
   "codemirror_mode": {
    "name": "ipython",
    "version": 3
   },
   "file_extension": ".py",
   "mimetype": "text/x-python",
   "name": "python",
   "nbconvert_exporter": "python",
   "pygments_lexer": "ipython3",
   "version": "3.10.5"
  },
  "orig_nbformat": 4,
  "vscode": {
   "interpreter": {
    "hash": "83d3ed9ff8e47376f9db9245c551a0177bbb7c2af3f7d74b5ad4b19b23f47b76"
   }
  }
 },
 "nbformat": 4,
 "nbformat_minor": 2
}
